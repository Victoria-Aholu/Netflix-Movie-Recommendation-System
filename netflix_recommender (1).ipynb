{
  "nbformat": 4,
  "nbformat_minor": 0,
  "metadata": {
    "colab": {
      "provenance": []
    },
    "kernelspec": {
      "name": "python3",
      "display_name": "Python 3"
    },
    "language_info": {
      "name": "python"
    }
  },
  "cells": [
    {
      "cell_type": "code",
      "execution_count": 5,
      "metadata": {
        "colab": {
          "base_uri": "https://localhost:8080/"
        },
        "id": "viqvehltY2ru",
        "outputId": "c82f22c5-68b8-488f-91bc-a605b02b4ddc"
      },
      "outputs": [
        {
          "output_type": "stream",
          "name": "stdout",
          "text": [
            "Recommendations for 'Sherlock Holmes':\n",
            "8076       Spy Kids 3: Game Over\n",
            "3836           In Family I Trust\n",
            "4997                 Borderliner\n",
            "8032                   Skiptrace\n",
            "7494    Monster High: Fright On!\n",
            "Name: title, dtype: object\n"
          ]
        }
      ],
      "source": [
        "# Step 1: Import Libraries\n",
        "import pandas as pd\n",
        "from sklearn.feature_extraction.text import TfidfVectorizer\n",
        "from sklearn.metrics.pairwise import cosine_similarity\n",
        "\n",
        "# Step 2: Load Dataset from GitHub (replace with your GitHub raw link)\n",
        "url = 'https://raw.githubusercontent.com/Victoria-Aholu/Netflix-Movie-Recommendation-System/refs/heads/main/netflix_titles.csv?token=GHSAT0AAAAAADFSEI7VFVLB7FV6BJ7QQXSG2CLMAEQ'\n",
        "df = pd.read_csv(url)\n",
        "\n",
        "# Step 3: Basic Cleaning\n",
        "df.dropna(subset=['description'], inplace=True)\n",
        "df.reset_index(drop=True, inplace=True)\n",
        "\n",
        "# Step 4: Vectorize Descriptions using TF-IDF\n",
        "tfidf = TfidfVectorizer(stop_words='english')\n",
        "tfidf_matrix = tfidf.fit_transform(df['description'])\n",
        "\n",
        "# Step 5: Compute Cosine Similarity\n",
        "cosine_sim = cosine_similarity(tfidf_matrix, tfidf_matrix)\n",
        "\n",
        "# Step 6: Index Mapping\n",
        "indices = pd.Series(df.index, index=df['title']).drop_duplicates()\n",
        "\n",
        "# Step 7: Recommendation Function\n",
        "def get_recommendations(title, cosine_sim=cosine_sim):\n",
        "    idx = indices.get(title)\n",
        "    if idx is None:\n",
        "        return \"Title not found\"\n",
        "\n",
        "    sim_scores = list(enumerate(cosine_sim[idx]))\n",
        "    sim_scores = sorted(sim_scores, key=lambda x: x[1], reverse=True)\n",
        "    sim_scores = sim_scores[1:6]\n",
        "    movie_indices = [i[0] for i in sim_scores]\n",
        "    return df['title'].iloc[movie_indices]\n",
        "\n",
        "# Step 8: Try It!\n",
        "movie_title = \"Sherlock Holmes\"\n",
        "print(f\"Recommendations for '{movie_title}':\")\n",
        "print(get_recommendations(movie_title))\n"
      ]
    }
  ]
}